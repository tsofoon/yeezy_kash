{
 "cells": [
  {
   "cell_type": "markdown",
   "source": [
    "# Try scrapping stockx\n",
    "\n",
    "Scraping pipeline:\n",
    "1. Get entire catalog --> figure out individual product link\n",
    "2. Product link --> sku, description\n",
    "3. sku --> transaction data (activity)\n",
    "4. Example Transaction data plot"
   ],
   "metadata": {
    "collapsed": false
   }
  },
  {
   "cell_type": "code",
   "execution_count": null,
   "outputs": [],
   "source": [
    "import requests\n",
    "from bs4 import BeautifulSoup as bs4\n",
    "import re\n",
    "import json\n",
    "import time\n",
    "from selenium import webdriver\n",
    "from webdriver_manager.chrome import ChromeDriverManager\n",
    "import phonenumbers\n",
    "import pandas as pd\n",
    "import csv\n",
    "import os\n",
    "import numpy as np\n",
    "import matplotlib.pyplot as plt\n",
    "import seaborn as sns\n",
    "base_url = 'https://stockx.com'"
   ],
   "metadata": {
    "collapsed": false,
    "pycharm": {
     "name": "#%%\n"
    }
   }
  },
  {
   "cell_type": "code",
   "execution_count": null,
   "outputs": [],
   "source": [
    "# predefined fuctions and settings\n",
    "\n",
    "# To move columns in a pandas table\n",
    "def movecol(df, cols_to_move=[], ref_col='', place='After'):\n",
    "\n",
    "    cols = df.columns.tolist()\n",
    "    if place == 'After':\n",
    "        seg1 = cols[:list(cols).index(ref_col) + 1]\n",
    "        seg2 = cols_to_move\n",
    "    if place == 'Before':\n",
    "        seg1 = cols[:list(cols).index(ref_col)]\n",
    "        seg2 = cols_to_move + [ref_col]\n",
    "\n",
    "    seg1 = [i for i in seg1 if i not in seg2]\n",
    "    seg3 = [i for i in cols if i not in seg1 + seg2]\n",
    "\n",
    "    return(df[seg1 + seg2 + seg3])\n",
    "# return substring between start and end of input string s\n",
    "def find_between(s, start, end):\n",
    "  return (s.split(start))[1].split(end)[0]\n",
    "\n",
    "# utility to save figure\n",
    "def save_fig(fig_id, tight_layout=True):\n",
    "    path = os.path.join(fig_id + \".png\")\n",
    "    print(\"Saving figure\", fig_id)\n",
    "    if tight_layout:\n",
    "        plt.tight_layout()\n",
    "    plt.savefig(path, format='png', dpi=300)\n",
    "\n",
    "# display all columns\n",
    "pd.set_option('display.max_columns', None)"
   ],
   "metadata": {
    "collapsed": false,
    "pycharm": {
     "name": "#%%\n"
    }
   }
  },
  {
   "cell_type": "markdown",
   "source": [
    "1. Getting URLs for individual snealer items from catalog"
   ],
   "metadata": {
    "collapsed": false
   }
  },
  {
   "cell_type": "code",
   "execution_count": null,
   "outputs": [],
   "source": [
    "all_data = []\n",
    "def get_urls(url = base_url):\n",
    "    end_url = '/sneakers?page='\n",
    "    # empty dictionary to store urls\n",
    "    urls = []\n",
    "    # for each page in results page\n",
    "    for page in range(1,25):\n",
    "        # build url\n",
    "        url = base_url + end_url + str(page)\n",
    "\n",
    "        # retrieve urls\n",
    "        rsp = requests.get(url,headers = { 'User-Agent': 'Opera/9.80 (Windows NT 5.1; U; en) Presto/2.10.289 Version/12.01', })\n",
    "        body = bs4(rsp.text, 'html.parser')\n",
    "        #print(body.prettify())\n",
    "        listings = body.find_all('div', \"tile Tile-c8u7wn-0 bCufAv\")\n",
    "\n",
    "        # store urls in list\n",
    "        for listing in listings:\n",
    "            urls.append(listing.a['href'])#('https://sfbay.craigslist.org' + listing.a['href'])\n",
    "\n",
    "        time.sleep(1)  # seconds\n",
    "\n",
    "    # write list to csv\n",
    "    with open('urls.csv', 'w', newline='') as file:\n",
    "        writer = csv.writer(file, delimiter=',')\n",
    "        for row in urls:\n",
    "            writer.writerow([row])\n",
    "\n",
    "    return urls\n",
    "\n",
    "# run script\n",
    "urls = get_urls()\n",
    "print(len(urls))\n"
   ],
   "metadata": {
    "collapsed": false,
    "pycharm": {
     "name": "#%%\n"
    }
   }
  },
  {
   "cell_type": "markdown",
   "source": [
    "2. Getting SKU and product details from URLs"
   ],
   "metadata": {
    "collapsed": false
   }
  },
  {
   "cell_type": "code",
   "execution_count": null,
   "outputs": [],
   "source": [
    "f=open('urls.csv',\"r\")\n",
    "urls = f.read().split('\\n')\n",
    "f.close()\n",
    "urls[0]"
   ],
   "metadata": {
    "collapsed": false,
    "pycharm": {
     "name": "#%%\n"
    }
   }
  },
  {
   "cell_type": "code",
   "execution_count": null,
   "outputs": [],
   "source": [
    "\n",
    "def get_SKU(urls):\n",
    "\n",
    "    for i in range(924,len(urls)):\n",
    "        # build url\n",
    "        item_url = base_url + urls[i]\n",
    "\n",
    "        sess = requests.session()\n",
    "\n",
    "        headers = {\n",
    "            \"referer\": \"https://stockx.com/\",\n",
    "            \"user-agent\": \"Mozilla/5.0 (Macintosh; Intel Mac OS X 10_15_3) AppleWebKit/537.36 (KHTML, like Gecko) Chrome/83.0.4103.61 Safari/537.36'\"\n",
    "            }\n",
    "\n",
    "        req = sess.get(item_url, headers = headers)\n",
    "        fname = os.path.join('shoes',urls[i][1:] + '.txt')\n",
    "        print(i,' ', req.status_code,' ',fname)\n",
    "        if req.status_code != 200:\n",
    "            print('scrapping failed')\n",
    "            break\n",
    "        soup = bs4(req.text)\n",
    "        product = soup.findAll('div','product-view')\n",
    "\n",
    "        f = open(fname,\"w\")\n",
    "        f.write(str(product))\n",
    "        f.close()\n",
    "        time.sleep(3)  # seconds\n",
    "\n",
    "\n",
    "# run script\n",
    "get_SKU(urls)\n"
   ],
   "metadata": {
    "collapsed": false,
    "pycharm": {
     "name": "#%%\n"
    }
   }
  },
  {
   "cell_type": "code",
   "execution_count": null,
   "outputs": [],
   "source": [
    "product_table = pd.DataFrame(columns = ['name', 'description','image_link', 'release_date', 'model', 'sku','color'])\n",
    "product_table.head()"
   ],
   "metadata": {
    "collapsed": false,
    "pycharm": {
     "name": "#%%\n"
    }
   }
  },
  {
   "cell_type": "code",
   "execution_count": null,
   "outputs": [],
   "source": [
    "shoe_dir = os.path.join(os.getcwd(),'shoes')\n",
    "\n",
    "for filename in os.listdir(shoe_dir):\n",
    "   try:\n",
    "        with open(os.path.join(shoe_dir, filename), 'r') as f:\n",
    "            content = f.read()\n",
    "            x = content.split('{')[1]\n",
    "            name = find_between(x,'\\\"name\\\":',',')[1:-1]\n",
    "            desc = find_between(x,'\\\"description\\\":',',')[1:-1]\n",
    "            image = find_between(x,'\\\"image\\\":',',')[1:-1]\n",
    "            release_date= find_between(x,'\\\"releaseDate\\\":',',')[1:-1]\n",
    "            model = find_between(x,'\\\"model\\\":',',')[1:-1]\n",
    "            sku = find_between(x,'\\\"sku\\\":',',')[1:-1]\n",
    "            color = find_between(x,'\\\"color\\\":',',')[1:-1]\n",
    "            tmp = pd.DataFrame({'name': [name], 'description':[desc],'image_link': [image], 'release_date':[release_date], 'model':[model], 'sku':[sku],'color':[color]})\n",
    "            product_table = product_table.append(tmp)\n",
    "   except IndexError:\n",
    "       print('Failed File: ', filename)\n",
    "product_table.to_csv('product_table.csv')\n",
    "print(product_table.shape)\n",
    "product_table.head()"
   ],
   "metadata": {
    "collapsed": false,
    "pycharm": {
     "name": "#%%\n"
    }
   }
  },
  {
   "cell_type": "markdown",
   "source": [
    "3. Scrapping Transaction data given SKU\n"
   ],
   "metadata": {
    "collapsed": false
   }
  },
  {
   "cell_type": "code",
   "execution_count": null,
   "outputs": [],
   "source": [
    "def text_to_df(str):\n",
    "    df = pd.DataFrame()\n",
    "\n",
    "    record = re.findall('\\{.*?\\}',str)\n",
    "    #record = record[:2]\n",
    "    #print(len(record))\n",
    "    #print(record)\n",
    "    for i in range(len(record)):\n",
    "        dict = {}\n",
    "        ss = record[i].split(',')\n",
    "        #print(ss)\n",
    "        for sss in ss:\n",
    "            ssss= sss.split(':')\n",
    "            dict[ssss[0][1:-1]] = ssss[1]\n",
    "        tmp_df = pd.DataFrame(dict, index = [0])\n",
    "        df = df.append(tmp_df)\n",
    "    return df\n",
    "\n",
    "\n"
   ],
   "metadata": {
    "collapsed": false,
    "pycharm": {
     "name": "#%%\n"
    }
   }
  },
  {
   "cell_type": "code",
   "execution_count": null,
   "outputs": [],
   "source": [
    "def get_activity(sku, p_name,idx):\n",
    "    page = 1\n",
    "    all_activity = ''\n",
    "    while True:\n",
    "        item_activity_url = base_url +'/api/products/'+sku + '/activity?state=480&currency=USD&limit=20000&page='+str(page)+'&sort=createdAt&order=DESC&country=US'\n",
    "        item_activity_url\n",
    "        sess = requests.session()\n",
    "        #print(item_activity_url)\n",
    "        headers = {\n",
    "            \"referer\": base_url + '/' + p_name,\n",
    "            \"user-agent\": \"Mozilla/5.0 (Macintosh; Intel Mac OS X 10_15_3) AppleWebKit/537.36 (KHTML, like Gecko) Chrome/83.0.4103.61 Safari/537.36'\"\n",
    "            }\n",
    "\n",
    "        req = sess.get(item_activity_url, headers = headers)\n",
    "        print(idx,' ',req.status_code,' ', p_name)\n",
    "        content= req.text\n",
    "        activity = find_between(content,'[',']')\n",
    "        all_activity = all_activity + activity\n",
    "\n",
    "        next_page = re.search('\\\"nextPage\\\"\\:.*?,',content).group(0).split(':')[1]\n",
    "        #print(next_page)\n",
    "\n",
    "        if next_page == 'null,':\n",
    "            break\n",
    "        page +=1\n",
    "\n",
    "    #print(len(all_activity))\n",
    "    activity_df = text_to_df(all_activity)\n",
    "    return activity_df"
   ],
   "metadata": {
    "collapsed": false,
    "pycharm": {
     "name": "#%%\n"
    }
   }
  },
  {
   "cell_type": "code",
   "execution_count": null,
   "outputs": [],
   "source": [
    "product_table = pd.read_csv('product_table.csv')\n",
    "for index,row in product_table.iterrows():\n",
    "    if index >= 0: # index to start\n",
    "        try:\n",
    "            sku, p_name = row['sku'], row['name']\n",
    "            product_activity = get_activity(sku,p_name, index)\n",
    "            product_activity['product_name'] = p_name\n",
    "            product_activity.to_csv(os.path.join('activity',p_name+'activity.csv'))\n",
    "        except FileNotFoundError:\n",
    "           print('Failed File: ', p_name)"
   ],
   "metadata": {
    "collapsed": false,
    "pycharm": {
     "name": "#%%\n"
    }
   }
  },
  {
   "cell_type": "markdown",
   "source": [
    "4. Example plot of Transaction Activity"
   ],
   "metadata": {
    "collapsed": false,
    "pycharm": {
     "name": "#%% md\n"
    }
   }
  },
  {
   "cell_type": "code",
   "execution_count": null,
   "outputs": [],
   "source": [
    "activity_df=pd.read_csv('activity_df.csv')\n",
    "activity_df['amount'] = activity_df['amount'].astype('float')\n",
    "activity_df['createdAt'] = activity_df['createdAt'].str.strip('\\\"')\n",
    "activity_df['shoeSize'] = activity_df['shoeSize'].str.strip('\\\"')\n",
    "activity_df['shoeSize'] = activity_df['shoeSize'].astype('float')\n",
    "activity_df.head()"
   ],
   "metadata": {
    "collapsed": false,
    "pycharm": {
     "name": "#%%\n"
    }
   }
  },
  {
   "cell_type": "code",
   "execution_count": null,
   "outputs": [],
   "source": [
    "activity_df['createdAt']=pd.to_datetime(activity_df['createdAt'])\n",
    "activity_df.info()"
   ],
   "metadata": {
    "collapsed": false,
    "pycharm": {
     "name": "#%%\n"
    }
   }
  },
  {
   "cell_type": "code",
   "execution_count": null,
   "outputs": [],
   "source": [
    "plt.figure(figsize=(20,10))\n",
    "sns.set_palette(\"husl\")\n",
    "chart = sns.lineplot(x = activity_df['createdAt'], y = activity_df['amount'], hue = 'shoeSize',palette='RdBu', data = activity_df)\n",
    "plt.title('Jordan 1 Retro High Court Purple White')\n",
    "#chart.set_xticklabels(rotation=65, horizontalalignment='right')\n",
    "save_fig('activity_test_fig')\n",
    "\n"
   ],
   "metadata": {
    "collapsed": false,
    "pycharm": {
     "name": "#%%\n"
    }
   }
  },
  {
   "cell_type": "code",
   "execution_count": null,
   "outputs": [],
   "source": [
    "\n",
    "\n"
   ],
   "metadata": {
    "collapsed": false,
    "pycharm": {
     "name": "#%%\n"
    }
   }
  }
 ],
 "metadata": {
  "kernelspec": {
   "display_name": "Python 3",
   "language": "python",
   "name": "python3"
  },
  "language_info": {
   "codemirror_mode": {
    "name": "ipython",
    "version": 2
   },
   "file_extension": ".py",
   "mimetype": "text/x-python",
   "name": "python",
   "nbconvert_exporter": "python",
   "pygments_lexer": "ipython2",
   "version": "2.7.6"
  }
 },
 "nbformat": 4,
 "nbformat_minor": 0
}
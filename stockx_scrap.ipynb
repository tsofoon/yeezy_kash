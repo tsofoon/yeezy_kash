{
 "cells": [
  {
   "cell_type": "markdown",
   "metadata": {},
   "source": [
    "# Try scrapping stockx\n",
    "\n",
    "Scraping pipeline:\n",
    "1. Get entire catalog --> figure out individual product link\n",
    "2. Product link --> sku, description\n",
    "3. sku --> transaction data (activity)\n",
    "4. Example Transaction data plot\n",
    "5. Combining transaction activity data of all shoes\n",
    "6. Combining Product detail and transaction activity of all products"
   ]
  },
  {
   "cell_type": "code",
   "execution_count": null,
   "metadata": {
    "pycharm": {
     "name": "#%%\n"
    }
   },
   "outputs": [],
   "source": [
    "import requests\n",
    "from bs4 import BeautifulSoup as bs4\n",
    "import re\n",
    "import json\n",
    "import time\n",
    "from selenium import webdriver\n",
    "from webdriver_manager.chrome import ChromeDriverManager\n",
    "import phonenumbers\n",
    "import pandas as pd\n",
    "import csv\n",
    "import os\n",
    "import numpy as np\n",
    "import matplotlib.pyplot as plt\n",
    "import seaborn as sns\n",
    "base_url = 'https://stockx.com'"
   ]
  },
  {
   "cell_type": "code",
   "execution_count": null,
   "metadata": {
    "pycharm": {
     "name": "#%%\n"
    }
   },
   "outputs": [],
   "source": [
    "# predefined fuctions and settings\n",
    "\n",
    "# To move columns in a pandas table\n",
    "def movecol(df, cols_to_move=[], ref_col='', place='After'):\n",
    "\n",
    "    cols = df.columns.tolist()\n",
    "    if place == 'After':\n",
    "        seg1 = cols[:list(cols).index(ref_col) + 1]\n",
    "        seg2 = cols_to_move\n",
    "    if place == 'Before':\n",
    "        seg1 = cols[:list(cols).index(ref_col)]\n",
    "        seg2 = cols_to_move + [ref_col]\n",
    "\n",
    "    seg1 = [i for i in seg1 if i not in seg2]\n",
    "    seg3 = [i for i in cols if i not in seg1 + seg2]\n",
    "\n",
    "    return(df[seg1 + seg2 + seg3])\n",
    "# return substring between start and end of input string s\n",
    "def find_between(s, start, end):\n",
    "    return (s.split(start))[1].split(end)[0]\n",
    "\n",
    "# utility to save figure\n",
    "def save_fig(fig_id, tight_layout=True):\n",
    "    path = os.path.join(fig_id + \".png\")\n",
    "    print(\"Saving figure\", fig_id)\n",
    "    if tight_layout:\n",
    "        plt.tight_layout()\n",
    "    plt.savefig(path, format='png', dpi=300)\n",
    "\n",
    "# display all columns\n",
    "pd.set_option('display.max_columns', None)"
   ]
  },
  {
   "cell_type": "markdown",
   "metadata": {},
   "source": [
    "1. Getting URLs for individual snealer items from catalog"
   ]
  },
  {
   "cell_type": "code",
   "execution_count": null,
   "metadata": {
    "pycharm": {
     "name": "#%%\n"
    }
   },
   "outputs": [],
   "source": [
    "all_data = []\n",
    "def get_urls(url = base_url):\n",
    "    end_url = '/sneakers?page='\n",
    "    # empty dictionary to store urls\n",
    "    urls = []\n",
    "    # for each page in results page\n",
    "    for page in range(1,25):\n",
    "        # build url\n",
    "        url = base_url + end_url + str(page)\n",
    "\n",
    "        # retrieve urls\n",
    "        rsp = requests.get(url,headers = { 'User-Agent': 'Opera/9.80 (Windows NT 5.1; U; en) Presto/2.10.289 Version/12.01', })\n",
    "        body = bs4(rsp.text, 'html.parser')\n",
    "        #print(body.prettify())\n",
    "        listings = body.find_all('div', \"tile Tile-c8u7wn-0 bCufAv\")\n",
    "\n",
    "        # store urls in list\n",
    "        for listing in listings:\n",
    "            urls.append(listing.a['href'])\n",
    "\n",
    "        time.sleep(1)  # seconds\n",
    "\n",
    "    # write list to csv\n",
    "    with open('urls.csv', 'w', newline='') as file:\n",
    "        writer = csv.writer(file, delimiter=',')\n",
    "        for row in urls:\n",
    "            writer.writerow([row])\n",
    "\n",
    "    return urls\n",
    "\n",
    "# run script\n",
    "urls = get_urls()\n",
    "print(len(urls))\n"
   ]
  },
  {
   "cell_type": "markdown",
   "metadata": {},
   "source": [
    "2. Getting SKU and product details from URLs"
   ]
  },
  {
   "cell_type": "code",
   "execution_count": null,
   "metadata": {
    "pycharm": {
     "name": "#%%\n"
    }
   },
   "outputs": [],
   "source": [
    "f=open('urls.csv',\"r\")\n",
    "urls = f.read().split('\\n')\n",
    "f.close()\n",
    "urls[0]"
   ]
  },
  {
   "cell_type": "code",
   "execution_count": null,
   "metadata": {
    "pycharm": {
     "name": "#%%\n"
    }
   },
   "outputs": [],
   "source": [
    "# go to individual product page url and save product detail into individual txt files\n",
    "def get_SKU(urls):\n",
    "\n",
    "    for i in range(0,len(urls)):\n",
    "        # build url\n",
    "        item_url = base_url + urls[i]\n",
    "\n",
    "        sess = requests.session()\n",
    "\n",
    "        headers = {\n",
    "            \"referer\": \"https://stockx.com/\",\n",
    "            \"user-agent\": \"Mozilla/5.0 (Macintosh; Intel Mac OS X 10_15_3) AppleWebKit/537.36 (KHTML, like Gecko) Chrome/83.0.4103.61 Safari/537.36'\"\n",
    "            }\n",
    "\n",
    "        req = sess.get(item_url, headers = headers)\n",
    "        fname = os.path.join('shoes',urls[i][1:] + '.txt')\n",
    "        print(i,' ', req.status_code,' ',fname)\n",
    "        if req.status_code != 200:\n",
    "            print('scrapping failed')\n",
    "            break\n",
    "        soup = bs4(req.text)\n",
    "        product = soup.findAll('div','product-view')\n",
    "\n",
    "        f = open(fname,\"w\")\n",
    "        f.write(str(product))\n",
    "        f.close()\n",
    "        time.sleep(3)  # seconds\n",
    "\n",
    "\n",
    "# run script\n",
    "get_SKU(urls)\n"
   ]
  },
  {
   "cell_type": "code",
   "execution_count": null,
   "metadata": {
    "pycharm": {
     "name": "#%%\n"
    }
   },
   "outputs": [],
   "source": [
    "# parse each text file that contains product detail and sort those information into dataframe\n",
    "product_table = pd.DataFrame(columns = ['name', 'description','image_link', 'release_date', 'model', 'sku','color'])\n",
    "shoe_dir = os.path.join(os.getcwd(),'shoes')\n",
    "\n",
    "for filename in os.listdir(shoe_dir):\n",
    "    try:\n",
    "        with open(os.path.join(shoe_dir, filename), 'r') as f:\n",
    "            content = f.read()\n",
    "            x = content.split('{')[1]\n",
    "            name = find_between(x,'\\\"name\\\":',',')[1:-1]\n",
    "            desc = find_between(x,'\\\"description\\\":',',')[1:-1]\n",
    "            image = find_between(x,'\\\"image\\\":',',')[1:-1]\n",
    "            release_date= find_between(x,'\\\"releaseDate\\\":',',')[1:-1]\n",
    "            model = find_between(x,'\\\"model\\\":',',')[1:-1]\n",
    "            sku = find_between(x,'\\\"sku\\\":',',')[1:-1]\n",
    "            color = find_between(x,'\\\"color\\\":',',')[1:-1]\n",
    "            tmp = pd.DataFrame({'name': [name], 'description':[desc],'image_link': [image], 'release_date':[release_date], 'model':[model], 'sku':[sku],'color':[color]})\n",
    "            product_table = product_table.append(tmp)\n",
    "    except IndexError:\n",
    "        print('Failed File: ', filename)\n",
    "product_table.to_csv('product_table.csv')\n",
    "print(product_table.shape)\n",
    "product_table.head()"
   ]
  },
  {
   "cell_type": "markdown",
   "metadata": {},
   "source": [
    "3. Scrapping Transaction data given SKU\n"
   ]
  },
  {
   "cell_type": "code",
   "execution_count": null,
   "metadata": {
    "pycharm": {
     "name": "#%%\n"
    }
   },
   "outputs": [],
   "source": [
    "def text_to_df(str):\n",
    "    # helper function to parse activity (transaction) data\n",
    "    df = pd.DataFrame()\n",
    "    record = re.findall('\\{.*?\\}',str)\n",
    "    for i in range(len(record)):\n",
    "        dict = {}\n",
    "        ss = record[i].split(',')\n",
    "        for sss in ss:\n",
    "            ssss= sss.split(':')\n",
    "            dict[ssss[0][1:-1]] = ssss[1]\n",
    "        tmp_df = pd.DataFrame(dict, index = [0])\n",
    "        df = df.append(tmp_df)\n",
    "    return df"
   ]
  },
  {
   "cell_type": "code",
   "execution_count": null,
   "metadata": {
    "pycharm": {
     "name": "#%%\n"
    }
   },
   "outputs": [],
   "source": [
    "def get_activity(sku, p_name,idx):\n",
    "    # scrape transaction data of each product based on sku\n",
    "    page = 1\n",
    "    all_activity = ''\n",
    "    while True:\n",
    "        item_activity_url = base_url +'/api/products/'+sku + '/activity?state=480&currency=USD&limit=20000&page='+str(page)+'&sort=createdAt&order=DESC&country=US'\n",
    "        item_activity_url\n",
    "        sess = requests.session()\n",
    "        #print(item_activity_url)\n",
    "        headers = {\n",
    "            \"referer\": base_url + '/' + p_name,\n",
    "            \"user-agent\": \"Mozilla/5.0 (Macintosh; Intel Mac OS X 10_15_3) AppleWebKit/537.36 (KHTML, like Gecko) Chrome/83.0.4103.61 Safari/537.36'\"\n",
    "            }\n",
    "\n",
    "        req = sess.get(item_activity_url, headers = headers)\n",
    "        print(idx,' ',req.status_code,' ', p_name)\n",
    "        content= req.text\n",
    "        activity = find_between(content,'[',']')\n",
    "        all_activity = all_activity + activity\n",
    "\n",
    "        next_page = re.search('\\\"nextPage\\\"\\:.*?,',content).group(0).split(':')[1]\n",
    "        #print(next_page)\n",
    "\n",
    "        if next_page == 'null,': # scrape until there is no next page\n",
    "            break\n",
    "        page +=1\n",
    "\n",
    "    #print(len(all_activity))\n",
    "    activity_df = text_to_df(all_activity)\n",
    "    return activity_df"
   ]
  },
  {
   "cell_type": "code",
   "execution_count": null,
   "metadata": {
    "pycharm": {
     "name": "#%%\n"
    }
   },
   "outputs": [],
   "source": [
    "# loop through each product and get transaction data\n",
    "product_table = pd.read_csv('product_table.csv')\n",
    "for index,row in product_table.iterrows():\n",
    "    if index >= 0: # index to start\n",
    "        try:\n",
    "            sku, p_name = row['sku'], row['name']\n",
    "            product_activity = get_activity(sku,p_name, index)\n",
    "            product_activity['product_name'] = p_name\n",
    "            product_activity.to_csv(os.path.join('activity',p_name+'activity.csv'))\n",
    "        except FileNotFoundError:\n",
    "            print('Failed File: ', p_name)"
   ]
  },
  {
   "cell_type": "markdown",
   "metadata": {
    "pycharm": {
     "name": "#%% md\n"
    }
   },
   "source": [
    "4. Example plot of Transaction Activity of a representative shoe"
   ]
  },
  {
   "cell_type": "code",
   "execution_count": null,
   "metadata": {
    "pycharm": {
     "name": "#%%\n"
    }
   },
   "outputs": [],
   "source": [
    "activity_df=pd.read_csv('adidas Yeezy Boost 350 V2 Sulfuractivity.csv')\n",
    "activity_df['amount'] = activity_df['amount'].astype('float')\n",
    "activity_df['createdAt'] = activity_df['createdAt'].str.strip('\\\"')\n",
    "activity_df['shoeSize'] = activity_df['shoeSize'].str.strip('\\\"')\n",
    "activity_df['shoeSize'] = activity_df['shoeSize'].astype('float')\n",
    "activity_df.head()"
   ]
  },
  {
   "cell_type": "code",
   "execution_count": null,
   "metadata": {
    "pycharm": {
     "name": "#%%\n"
    }
   },
   "outputs": [],
   "source": [
    "activity_df['createdAt']=pd.to_datetime(activity_df['createdAt'])\n",
    "activity_df.info()"
   ]
  },
  {
   "cell_type": "code",
   "execution_count": null,
   "metadata": {
    "pycharm": {
     "name": "#%%\n"
    }
   },
   "outputs": [],
   "source": [
    "plt.figure(figsize=(20,10))\n",
    "sns.set_palette(\"husl\")\n",
    "chart = sns.lineplot(x = activity_df['createdAt'], y = activity_df['amount'], hue = 'shoeSize',palette='RdBu', data = activity_df)\n",
    "plt.title('Jordan 1 Retro High Court Purple White')\n",
    "#chart.set_xticklabels(rotation=65, horizontalalignment='right')\n",
    "save_fig('activity_test_fig')\n",
    "\n"
   ]
  },
  {
   "cell_type": "markdown",
   "metadata": {},
   "source": [
    "5. Combining transaction activity data of all shoes"
   ]
  },
  {
   "cell_type": "code",
   "execution_count": null,
   "metadata": {
    "pycharm": {
     "name": "#%%\n"
    }
   },
   "outputs": [],
   "source": [
    "def get_specialSize(shoeSize):\n",
    "    # helper function to parse special sizes\n",
    "    if re.search('2E Wide',shoeSize):\n",
    "        return shoeSize.split('2E Wide')[0], '2E Wide' #wide\n",
    "    if re.search('W',shoeSize):\n",
    "        return shoeSize.split('W')[0], 'W' # women\n",
    "    if re.search('Y',shoeSize):\n",
    "        return shoeSize.split('Y')[0], 'Y' # youth\n",
    "    if re.search('K',shoeSize):\n",
    "        return shoeSize.split('K')[0], 'K' # toddler\n",
    "    return shoeSize, ''\n",
    "\n"
   ]
  },
  {
   "cell_type": "code",
   "execution_count": null,
   "metadata": {},
   "outputs": [],
   "source": [
    "# loop through transaction activity text file of each product to parse and sort data into all_transactions_df\n",
    "transaction_by_shoe = {}\n",
    "all_transaction_df= pd.DataFrame(columns = ['product_name', 'shoeSize', 'createdAt', 'amount', 'localAmount',\n",
    "       'localCurrency', 'specialSize','chainId'])\n",
    "all_transaction_df.head()\n",
    "shoe_dir = os.path.join(os.getcwd(),'activity')\n",
    "for filename in tqdm(os.listdir(shoe_dir)):\n",
    "    try:\n",
    "        with open(os.path.join(shoe_dir, filename), 'r') as f:\n",
    "            content = f.read()\n",
    "            activity_df=pd.read_csv(os.path.join('activity',filename))\n",
    "            activity_df['createdAt'] = activity_df['createdAt'].str.strip('\\\"')\n",
    "            activity_df['shoeSize'] = activity_df['shoeSize'].str.strip('\\\"')\n",
    "            activity_df['chainId'] = activity_df['\"chainId'].str.strip('\\\"')\n",
    "            activity_df['localCurrency'] = activity_df['localCurrency'].str.strip('\\\"')\n",
    "            activity_df['localCurrency'] = activity_df['localCurrency'].str.rstrip('\\\"')\n",
    "            activity_df['localCurrency'] = activity_df['localCurrency'].str.strip('\\}')\n",
    "            activity_df['createdAt']=pd.to_datetime(activity_df['createdAt'])\n",
    "            activity_df['amount'] = activity_df['amount'].astype('float32')\n",
    "            activity_df['localAmount'] = activity_df['localAmount'].astype('float32')\n",
    "            activity_df[['shoe_size','specialSize']] = activity_df.apply(lambda x: pd.Series(get_specialSize(x['shoeSize'])),axis=1)\n",
    "            activity_df['shoe_size'] = activity_df['shoe_size'].astype('float32')\n",
    "            activity_df = activity_df[['product_name','shoe_size','createdAt','amount', 'localAmount','localCurrency','specialSize','chainId']]\n",
    "            transaction_by_shoe[filename[:-12]] = activity_df\n",
    "            activity_df.to_csv(os.path.join('activity_df',(filename[:-4] + '_df.csv')))\n",
    "            all_transaction_df = all_transaction_df.append(activity_df)\n",
    "    except ValueError:\n",
    "        print('Special shoe size caught: ', filename)\n",
    "    except IndexError:\n",
    "        print('Failed File (Index Error): ', filename)\n",
    "    except KeyError:\n",
    "        print('Failed File (Key Error): ', filename)\n",
    "\n",
    "all_transaction_df = all_transaction_df[['product_name', 'shoe_size', 'createdAt', 'amount',\n",
    "       'localAmount', 'localCurrency', 'specialSize', 'chainId']]\n",
    "all_transaction_df.to_csv('all_transactions_df.csv')\n",
    "\n"
   ]
  },
  {
   "cell_type": "markdown",
   "metadata": {},
   "source": [
    "6. Combining Product detail and transaction activity of all products"
   ]
  },
  {
   "cell_type": "code",
   "execution_count": null,
   "metadata": {},
   "outputs": [],
   "source": [
    "# get product details\n",
    "products = pd.read_csv('product_table.csv')\n",
    "products[['color1','color2']] = products['color'].str.split('/', n = 1, expand = True)\n",
    "products_df = products[['name', 'model', 'color1','color2', 'release_date','description']]\n",
    "products_df = products_df.replace('--', np.NaN)\n",
    "products_df['release_date']=pd.to_datetime(products_df['release_date'])\n",
    "products_df.to_csv('prodcuts_df.csv')"
   ]
  },
  {
   "cell_type": "code",
   "execution_count": null,
   "metadata": {},
   "outputs": [],
   "source": [
    "# parse columns\n",
    "products_df = pd.read_csv('prodcuts_df.csv')\n",
    "all_transaction_df = pd.read_csv('all_transaction_df.csv')\n",
    "products_df['release_date'] = pd.to_datetime(products_df['release_date'], utc=True)\n",
    "all_transaction_df['createdAt'] = pd.to_datetime(all_transaction_df['createdAt'], utc=True)\n",
    "products_df = products_df.drop(columns= ['Unnamed: 0'])\n",
    "all_transaction_df = all_transaction_df.drop(columns = ['Unnamed: 0'])\n",
    "print(products_df.info(),'\\n',all_transaction_df.info())\n",
    "\n"
   ]
  },
  {
   "cell_type": "code",
   "execution_count": null,
   "metadata": {},
   "outputs": [],
   "source": [
    "# merge products and activity dataframes; d_release column created to capture how long has the product been\\n\n",
    "# released when the transaction happened\n",
    "all_trans_and_shoe = products_df.merge(all_transaction_df, left_on='name', right_on = 'product_name')\n",
    "all_trans_and_shoe = all_trans_and_shoe.fillna(value = {'release_date':'1985-01-01 00:00:00+00:00'})\n",
    "#original earliest release: 1985-09-16 00:00:00+00:00\n",
    "# fill release date NAs to the first year a sneaker is released\n",
    "all_trans_and_shoe = all_trans_and_shoe.fillna(value = {'release_date':'1985-01-01 00:00:00+00:00'})\n",
    "all_trans_and_shoe['release_date'] = pd.to_datetime(all_trans_and_shoe['release_date'], utc=True)\n",
    "all_trans_and_shoe['d_release'] = all_trans_and_shoe['createdAt']-all_trans_and_shoe['release_date']"
   ]
  },
  {
   "cell_type": "code",
   "execution_count": null,
   "metadata": {},
   "outputs": [],
   "source": [
    "# sort index by time, save\n",
    "all_trans_and_shoe.set_index('createdAt', drop=False, inplace=True)\n",
    "all_trans_and_shoe = all_trans_and_shoe.sort_index()\n",
    "all_trans_and_shoe.to_csv('all_trans_and_shoe.csv')\n",
    "all_trans_and_shoe.head()"
   ]
  }
 ],
 "metadata": {
  "kernelspec": {
   "display_name": "Python 3",
   "language": "python",
   "name": "python3"
  },
  "language_info": {
   "codemirror_mode": {
    "name": "ipython",
    "version": 3
   },
   "file_extension": ".py",
   "mimetype": "text/x-python",
   "name": "python",
   "nbconvert_exporter": "python",
   "pygments_lexer": "ipython3",
   "version": "3.7.6"
  }
 },
 "nbformat": 4,
 "nbformat_minor": 1
}
